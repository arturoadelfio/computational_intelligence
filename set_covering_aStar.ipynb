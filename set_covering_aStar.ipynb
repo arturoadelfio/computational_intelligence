{
 "cells": [
  {
   "cell_type": "code",
   "execution_count": 836,
   "metadata": {},
   "outputs": [],
   "source": [
    "from random import random\n",
    "from functools import reduce\n",
    "from collections import namedtuple\n",
    "from queue import PriorityQueue, SimpleQueue, LifoQueue\n",
    "from math import ceil\n",
    "\n",
    "import numpy as np"
   ]
  },
  {
   "cell_type": "code",
   "execution_count": 837,
   "metadata": {},
   "outputs": [],
   "source": [
    "PROBLEM_SIZE = 5\n",
    "NUM_SETS = 10\n",
    "SETS = tuple(\n",
    "    np.array([random() < 0.3 for _ in range(PROBLEM_SIZE)])\n",
    "    for _ in range(NUM_SETS)\n",
    ")\n",
    "State = namedtuple('State', ['taken', 'not_taken'])"
   ]
  },
  {
   "cell_type": "code",
   "execution_count": 838,
   "metadata": {},
   "outputs": [],
   "source": [
    "def goal_check(state):\n",
    "    return np.all(reduce(\n",
    "        np.logical_or,\n",
    "        [SETS[i] for i in state.taken],\n",
    "        np.array([False for _ in range(PROBLEM_SIZE)]),\n",
    "    ))\n",
    "\n",
    "def cost(state):\n",
    "    return len(state.taken)\n",
    "\n",
    "def distance(state, action):\n",
    "\n",
    "    taken_sets=list(state.taken)\n",
    "    print(\"taken sets\", taken_sets)\n",
    "    #print(\"action\",action)\n",
    "    currently_covered=reduce(\n",
    "        np.logical_or,\n",
    "        [SETS[i] for i in taken_sets],\n",
    "        np.array([False for _ in range(PROBLEM_SIZE)]),\n",
    "    )\n",
    "    #print(\"currently_covered\",currently_covered)\n",
    " \n",
    "    if action:\n",
    "        newly_covered=SETS[action]\n",
    "        #print(\"newly_covered\", newly_covered)\n",
    "        difference=0\n",
    "        for i in range(len(newly_covered)):\n",
    "            if (newly_covered[i] == currently_covered[i] ):\n",
    "                difference+=1\n",
    "        #print(\"difference\",difference)\n",
    "        overlap=difference\n",
    "        taken_sets.append(action)\n",
    "        \n",
    "\n",
    "    else:\n",
    "        overlap=0\n",
    "        \n",
    "    distance=PROBLEM_SIZE - sum(\n",
    "            reduce(\n",
    "                np.logical_or,\n",
    "                [SETS[i] for i in taken_sets],\n",
    "                np.array([False for _ in range(PROBLEM_SIZE)]),\n",
    "            ))\n",
    "    #print(\"overlap\",overlap)\n",
    "    print(\"distance\",distance)\n",
    "    return overlap*distance\n",
    "\n",
    "def h(state):\n",
    "    \n",
    "    already_covered = reduce(\n",
    "        np.logical_or,\n",
    "        [SETS[i] for i in state.taken],\n",
    "        np.array([False for _ in range(PROBLEM_SIZE)]),\n",
    "    )\n",
    "   \n",
    "    if np.all(already_covered):\n",
    "        return 0\n",
    "    largest_set_size = max(sum(np.logical_and(s, np.logical_not(already_covered))) for s in SETS)\n",
    "    missing_size = PROBLEM_SIZE - sum(already_covered)\n",
    "    optimistic_estimate = ceil(missing_size / largest_set_size)\n",
    "\n",
    "    new_metric=max(sum(np.logical_not(np.logical_xor(SETS[s], already_covered))) for s in state.not_taken)\n",
    "\n",
    "    return optimistic_estimate*0.9+0.1*new_metric\n",
    "    #return optimistic_estimate\n",
    "def f(state):\n",
    "    return h(state)+cost(state)\n"
   ]
  },
  {
   "cell_type": "code",
   "execution_count": 839,
   "metadata": {},
   "outputs": [],
   "source": [
    "assert goal_check(\n",
    "    State(set(range(NUM_SETS)), set())\n",
    "), \"Problem not solvable\""
   ]
  },
  {
   "cell_type": "code",
   "execution_count": 840,
   "metadata": {},
   "outputs": [
    {
     "name": "stdout",
     "output_type": "stream",
     "text": [
      "Solved in 2 steps (2 tiles)\n"
     ]
    }
   ],
   "source": [
    "frontier = PriorityQueue()\n",
    "state = State(set(), set(range(NUM_SETS)))\n",
    "frontier.put((f(state), state))\n",
    "\n",
    "counter = 0\n",
    "_, current_state = frontier.get()\n",
    "#print(\"initial current state\", current_state)\n",
    "while not goal_check(current_state):\n",
    "    counter += 1\n",
    "    for action in current_state[1]:\n",
    "        new_state = State(\n",
    "            current_state.taken ^ {action},\n",
    "            current_state.not_taken ^ {action},\n",
    "        )\n",
    "        #print(\"new state\", new_state)\n",
    "        frontier.put((f(new_state), new_state))\n",
    "   \n",
    "    _, current_state = frontier.get()\n",
    "    #print(\"current state\",current_state)\n",
    "\n",
    "print(\n",
    "    f\"Solved in {counter:,} steps ({len(current_state.taken)} tiles)\"\n",
    ")"
   ]
  },
  {
   "cell_type": "code",
   "execution_count": 841,
   "metadata": {},
   "outputs": [
    {
     "data": {
      "text/plain": [
       "State(taken={3, 6}, not_taken={0, 1, 2, 4, 5, 7, 8, 9})"
      ]
     },
     "execution_count": 841,
     "metadata": {},
     "output_type": "execute_result"
    }
   ],
   "source": [
    "current_state"
   ]
  },
  {
   "cell_type": "code",
   "execution_count": 842,
   "metadata": {},
   "outputs": [
    {
     "name": "stdout",
     "output_type": "stream",
     "text": [
      "0\n",
      "[False False False False  True]\n",
      "1\n",
      "[False False False False False]\n",
      "2\n",
      "[False False False False  True]\n",
      "3\n",
      "[False  True  True False False]\n",
      "4\n",
      "[ True False False False False]\n",
      "5\n",
      "[False False False False False]\n",
      "6\n",
      "[ True False False  True  True]\n",
      "7\n",
      "[False False False  True  True]\n",
      "8\n",
      "[False False  True  True False]\n",
      "9\n",
      "[ True  True False False False]\n"
     ]
    }
   ],
   "source": [
    "for i in range(len(SETS)):\n",
    "    print(i)\n",
    "    print(SETS[i])"
   ]
  }
 ],
 "metadata": {
  "kernelspec": {
   "display_name": "venv",
   "language": "python",
   "name": "python3"
  },
  "language_info": {
   "codemirror_mode": {
    "name": "ipython",
    "version": 3
   },
   "file_extension": ".py",
   "mimetype": "text/x-python",
   "name": "python",
   "nbconvert_exporter": "python",
   "pygments_lexer": "ipython3",
   "version": "3.12.0"
  }
 },
 "nbformat": 4,
 "nbformat_minor": 2
}
