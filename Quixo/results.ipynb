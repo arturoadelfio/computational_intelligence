{
 "cells": [
  {
   "cell_type": "code",
   "execution_count": 11,
   "metadata": {},
   "outputs": [],
   "source": [
    "import random\n",
    "import time\n",
    "import pickle\n",
    "import numpy as np\n",
    "from tqdm.auto import tqdm\n",
    "from game import Game, Move, Player\n",
    "from Montecarlo import MontecarloAgent \n",
    "from QLearning import QAgent\n",
    "from MinMax import MinmaxPlayer\n",
    "from main import *\n",
    "from main import minmax_simulation\n",
    "\n"
   ]
  },
  {
   "cell_type": "code",
   "execution_count": 4,
   "metadata": {},
   "outputs": [
    {
     "name": "stdout",
     "output_type": "stream",
     "text": [
      "Montecarlo is training...\n"
     ]
    },
    {
     "data": {
      "application/vnd.jupyter.widget-view+json": {
       "model_id": "f7eb486839504dcc9250a5b27bad1cb9",
       "version_major": 2,
       "version_minor": 0
      },
      "text/plain": [
       "  0%|          | 0/5000 [00:00<?, ?it/s]"
      ]
     },
     "metadata": {},
     "output_type": "display_data"
    },
    {
     "name": "stdout",
     "output_type": "stream",
     "text": [
      "My player won  0.5052\n",
      "Montecarlo is testing...\n",
      "Printing last 5 rows...\n",
      "(frozenset({(4, 0)}), frozenset()): {((0, 0), <Move.BOTTOM: 1>): -0.39822095528181023, ((0, 0), <Move.RIGHT: 3>): -0.8159457081435332, ((0, 1), <Move.TOP: 0>): -0.9715594560569409, ((0, 1), <Move.BOTTOM: 1>): -0.6006891618794366, ((0, 1), <Move.RIGHT: 3>): -0.4033729213926026, ((0, 2), <Move.TOP: 0>): -0.8748104820626608, ((0, 2), <Move.BOTTOM: 1>): -0.401848554761011, ((0, 2), <Move.RIGHT: 3>): -0.5935276286720783, ((0, 3), <Move.TOP: 0>): -0.48444856600861175, ((0, 3), <Move.BOTTOM: 1>): -0.43320853619868743, ((0, 3), <Move.RIGHT: 3>): -0.6865601932115608, ((4, 0), <Move.BOTTOM: 1>): -0.6476741075057956, ((4, 0), <Move.LEFT: 2>): -0.49612182157975016, ((4, 1), <Move.TOP: 0>): -0.8810061524321363, ((4, 1), <Move.BOTTOM: 1>): -0.45823805143033425, ((4, 1), <Move.LEFT: 2>): -0.46183758919380874, ((4, 2), <Move.TOP: 0>): -0.5186912686891698, ((4, 2), <Move.BOTTOM: 1>): -0.5139739617465793, ((4, 2), <Move.LEFT: 2>): -0.4083750810429431, ((4, 3), <Move.TOP: 0>): -0.5712128661062671, ((4, 3), <Move.BOTTOM: 1>): -0.4353562570840509, ((4, 3), <Move.LEFT: 2>): -0.6126267579625598, ((4, 4), <Move.TOP: 0>): -0.7761339995566827, ((4, 4), <Move.LEFT: 2>): -0.47280497894085854, ((1, 0), <Move.BOTTOM: 1>): -0.428740907700039, ((1, 0), <Move.LEFT: 2>): -0.42398276140601643, ((1, 0), <Move.RIGHT: 3>): -0.4358765736573016, ((2, 0), <Move.BOTTOM: 1>): -0.8370239079868068, ((2, 0), <Move.LEFT: 2>): -0.4841965449796995, ((2, 0), <Move.RIGHT: 3>): -0.4446405327032298, ((3, 0), <Move.BOTTOM: 1>): -0.6408846183319475, ((3, 0), <Move.LEFT: 2>): -0.48187689620601387, ((3, 0), <Move.RIGHT: 3>): -0.5576445830220842, ((1, 4), <Move.TOP: 0>): -0.4710536987967861, ((1, 4), <Move.LEFT: 2>): -0.5554434248637053, ((1, 4), <Move.RIGHT: 3>): -0.7790875730969387, ((2, 4), <Move.TOP: 0>): -0.7743178690234723, ((2, 4), <Move.LEFT: 2>): -0.7378686352124746, ((2, 4), <Move.RIGHT: 3>): -0.37119745014124816, ((3, 4), <Move.TOP: 0>): -0.568918113074664, ((3, 4), <Move.LEFT: 2>): -0.4415729186404184, ((3, 4), <Move.RIGHT: 3>): -0.6190094815317924} \n",
      "\n",
      "(frozenset({(4, 0), (2, 0)}), frozenset({(3, 0)})): {((2, 0), <Move.LEFT: 2>): -0.047013, ((0, 0), <Move.BOTTOM: 1>): -0.001, ((0, 0), <Move.RIGHT: 3>): 0, ((0, 1), <Move.TOP: 0>): 0, ((0, 1), <Move.BOTTOM: 1>): 0, ((0, 1), <Move.RIGHT: 3>): 0, ((0, 3), <Move.TOP: 0>): 0, ((0, 3), <Move.BOTTOM: 1>): 0, ((0, 3), <Move.RIGHT: 3>): 0, ((4, 0), <Move.BOTTOM: 1>): 0, ((4, 0), <Move.LEFT: 2>): 0, ((4, 1), <Move.TOP: 0>): 0, ((4, 1), <Move.BOTTOM: 1>): 0, ((4, 1), <Move.LEFT: 2>): 0, ((4, 2), <Move.TOP: 0>): 0, ((4, 2), <Move.BOTTOM: 1>): 0, ((4, 2), <Move.LEFT: 2>): 0, ((4, 3), <Move.TOP: 0>): 0, ((4, 3), <Move.BOTTOM: 1>): 0, ((4, 3), <Move.LEFT: 2>): 0, ((4, 4), <Move.TOP: 0>): 0, ((4, 4), <Move.LEFT: 2>): 0, ((1, 0), <Move.BOTTOM: 1>): 0, ((1, 0), <Move.LEFT: 2>): 0, ((1, 0), <Move.RIGHT: 3>): 0, ((2, 0), <Move.BOTTOM: 1>): 0, ((2, 0), <Move.RIGHT: 3>): 0, ((3, 0), <Move.BOTTOM: 1>): 0, ((3, 0), <Move.LEFT: 2>): 0, ((3, 0), <Move.RIGHT: 3>): 0, ((1, 4), <Move.TOP: 0>): 0, ((1, 4), <Move.LEFT: 2>): 0, ((1, 4), <Move.RIGHT: 3>): 0, ((2, 4), <Move.TOP: 0>): 0, ((2, 4), <Move.LEFT: 2>): 0, ((2, 4), <Move.RIGHT: 3>): 0, ((3, 4), <Move.TOP: 0>): 0, ((3, 4), <Move.LEFT: 2>): 0, ((3, 4), <Move.RIGHT: 3>): 0} \n",
      "\n",
      "(frozenset({(4, 0), (2, 0), (4, 1)}), frozenset({(0, 0), (3, 0)})): {((0, 0), <Move.BOTTOM: 1>): -0.047013, ((0, 0), <Move.RIGHT: 3>): -0.073, ((0, 1), <Move.TOP: 0>): 0, ((0, 1), <Move.BOTTOM: 1>): 0, ((0, 1), <Move.RIGHT: 3>): 0, ((0, 3), <Move.TOP: 0>): 0, ((0, 3), <Move.BOTTOM: 1>): 0, ((0, 3), <Move.RIGHT: 3>): 0, ((4, 0), <Move.BOTTOM: 1>): 0, ((4, 0), <Move.LEFT: 2>): 0, ((4, 1), <Move.TOP: 0>): 0, ((4, 1), <Move.BOTTOM: 1>): 0, ((4, 1), <Move.LEFT: 2>): 0, ((4, 2), <Move.TOP: 0>): 0, ((4, 2), <Move.BOTTOM: 1>): 0, ((4, 2), <Move.LEFT: 2>): 0, ((4, 3), <Move.TOP: 0>): 0, ((4, 3), <Move.BOTTOM: 1>): 0, ((4, 3), <Move.LEFT: 2>): 0, ((4, 4), <Move.TOP: 0>): 0, ((4, 4), <Move.LEFT: 2>): 0, ((1, 0), <Move.BOTTOM: 1>): 0, ((1, 0), <Move.LEFT: 2>): 0, ((1, 0), <Move.RIGHT: 3>): 0, ((2, 0), <Move.BOTTOM: 1>): 0, ((2, 0), <Move.LEFT: 2>): 0, ((2, 0), <Move.RIGHT: 3>): 0, ((3, 0), <Move.BOTTOM: 1>): 0, ((3, 0), <Move.LEFT: 2>): 0, ((3, 0), <Move.RIGHT: 3>): 0, ((2, 4), <Move.TOP: 0>): 0, ((2, 4), <Move.LEFT: 2>): 0, ((2, 4), <Move.RIGHT: 3>): 0, ((3, 4), <Move.TOP: 0>): 0, ((3, 4), <Move.LEFT: 2>): 0, ((3, 4), <Move.RIGHT: 3>): 0} \n",
      "\n",
      "(frozenset({(4, 0), (2, 0), (4, 1)}), frozenset({(1, 0), (3, 0)})): {((0, 0), <Move.BOTTOM: 1>): 0.013000000000000001, ((0, 0), <Move.RIGHT: 3>): 0, ((0, 1), <Move.TOP: 0>): 0, ((0, 1), <Move.BOTTOM: 1>): 0, ((0, 1), <Move.RIGHT: 3>): 0, ((0, 3), <Move.TOP: 0>): 0, ((0, 3), <Move.BOTTOM: 1>): 0, ((0, 3), <Move.RIGHT: 3>): 0, ((4, 0), <Move.BOTTOM: 1>): 0, ((4, 0), <Move.LEFT: 2>): 0, ((4, 1), <Move.TOP: 0>): 0, ((4, 1), <Move.BOTTOM: 1>): 0, ((4, 1), <Move.LEFT: 2>): 0, ((4, 2), <Move.TOP: 0>): 0, ((4, 2), <Move.BOTTOM: 1>): 0, ((4, 2), <Move.LEFT: 2>): 0, ((4, 3), <Move.TOP: 0>): 0, ((4, 3), <Move.BOTTOM: 1>): 0, ((4, 3), <Move.LEFT: 2>): 0, ((4, 4), <Move.TOP: 0>): 0, ((4, 4), <Move.LEFT: 2>): 0, ((1, 0), <Move.BOTTOM: 1>): 0, ((1, 0), <Move.LEFT: 2>): 0, ((1, 0), <Move.RIGHT: 3>): 0, ((2, 0), <Move.BOTTOM: 1>): 0, ((2, 0), <Move.LEFT: 2>): 0, ((2, 0), <Move.RIGHT: 3>): 0, ((3, 0), <Move.BOTTOM: 1>): 0, ((3, 0), <Move.LEFT: 2>): 0, ((3, 0), <Move.RIGHT: 3>): 0, ((2, 4), <Move.TOP: 0>): 0, ((2, 4), <Move.LEFT: 2>): 0, ((2, 4), <Move.RIGHT: 3>): 0, ((3, 4), <Move.TOP: 0>): 0, ((3, 4), <Move.LEFT: 2>): 0, ((3, 4), <Move.RIGHT: 3>): 0} \n",
      "\n",
      "(frozenset({(1, 0), (4, 1), (3, 4)}), frozenset({(4, 0), (2, 0), (0, 0)})): {((4, 0), <Move.LEFT: 2>): 0.013000000000000001} \n",
      "\n"
     ]
    },
    {
     "data": {
      "application/vnd.jupyter.widget-view+json": {
       "model_id": "ee1b93b2370646c093a608315b1f28f3",
       "version_major": 2,
       "version_minor": 0
      },
      "text/plain": [
       "  0%|          | 0/100 [00:00<?, ?it/s]"
      ]
     },
     "metadata": {},
     "output_type": "display_data"
    },
    {
     "name": "stdout",
     "output_type": "stream",
     "text": [
      "My player won  52.0 % of the times\n",
      "Montecarlo is testing...\n",
      "Printing last 5 rows...\n",
      "(frozenset({(4, 0)}), frozenset()): {((0, 0), <Move.BOTTOM: 1>): -0.39822095528181023, ((0, 0), <Move.RIGHT: 3>): -0.8159457081435332, ((0, 1), <Move.TOP: 0>): -0.9715594560569409, ((0, 1), <Move.BOTTOM: 1>): -0.6006891618794366, ((0, 1), <Move.RIGHT: 3>): -0.4033729213926026, ((0, 2), <Move.TOP: 0>): -0.8748104820626608, ((0, 2), <Move.BOTTOM: 1>): -0.401848554761011, ((0, 2), <Move.RIGHT: 3>): -0.5935276286720783, ((0, 3), <Move.TOP: 0>): -0.48444856600861175, ((0, 3), <Move.BOTTOM: 1>): -0.43320853619868743, ((0, 3), <Move.RIGHT: 3>): -0.6865601932115608, ((4, 0), <Move.BOTTOM: 1>): -0.6476741075057956, ((4, 0), <Move.LEFT: 2>): -0.49612182157975016, ((4, 1), <Move.TOP: 0>): -0.8810061524321363, ((4, 1), <Move.BOTTOM: 1>): -0.45823805143033425, ((4, 1), <Move.LEFT: 2>): -0.46183758919380874, ((4, 2), <Move.TOP: 0>): -0.5186912686891698, ((4, 2), <Move.BOTTOM: 1>): -0.5139739617465793, ((4, 2), <Move.LEFT: 2>): -0.4083750810429431, ((4, 3), <Move.TOP: 0>): -0.5712128661062671, ((4, 3), <Move.BOTTOM: 1>): -0.4353562570840509, ((4, 3), <Move.LEFT: 2>): -0.6126267579625598, ((4, 4), <Move.TOP: 0>): -0.7761339995566827, ((4, 4), <Move.LEFT: 2>): -0.47280497894085854, ((1, 0), <Move.BOTTOM: 1>): -0.428740907700039, ((1, 0), <Move.LEFT: 2>): -0.42398276140601643, ((1, 0), <Move.RIGHT: 3>): -0.4358765736573016, ((2, 0), <Move.BOTTOM: 1>): -0.8370239079868068, ((2, 0), <Move.LEFT: 2>): -0.4841965449796995, ((2, 0), <Move.RIGHT: 3>): -0.4446405327032298, ((3, 0), <Move.BOTTOM: 1>): -0.6408846183319475, ((3, 0), <Move.LEFT: 2>): -0.48187689620601387, ((3, 0), <Move.RIGHT: 3>): -0.5576445830220842, ((1, 4), <Move.TOP: 0>): -0.4710536987967861, ((1, 4), <Move.LEFT: 2>): -0.5554434248637053, ((1, 4), <Move.RIGHT: 3>): -0.7790875730969387, ((2, 4), <Move.TOP: 0>): -0.7743178690234723, ((2, 4), <Move.LEFT: 2>): -0.7378686352124746, ((2, 4), <Move.RIGHT: 3>): -0.37119745014124816, ((3, 4), <Move.TOP: 0>): -0.568918113074664, ((3, 4), <Move.LEFT: 2>): -0.4415729186404184, ((3, 4), <Move.RIGHT: 3>): -0.6190094815317924} \n",
      "\n",
      "(frozenset({(4, 0), (2, 0)}), frozenset({(3, 0)})): {((2, 0), <Move.LEFT: 2>): -0.047013, ((0, 0), <Move.BOTTOM: 1>): -0.001, ((0, 0), <Move.RIGHT: 3>): 0, ((0, 1), <Move.TOP: 0>): 0, ((0, 1), <Move.BOTTOM: 1>): 0, ((0, 1), <Move.RIGHT: 3>): 0, ((0, 3), <Move.TOP: 0>): 0, ((0, 3), <Move.BOTTOM: 1>): 0, ((0, 3), <Move.RIGHT: 3>): 0, ((4, 0), <Move.BOTTOM: 1>): 0, ((4, 0), <Move.LEFT: 2>): 0, ((4, 1), <Move.TOP: 0>): 0, ((4, 1), <Move.BOTTOM: 1>): 0, ((4, 1), <Move.LEFT: 2>): 0, ((4, 2), <Move.TOP: 0>): 0, ((4, 2), <Move.BOTTOM: 1>): 0, ((4, 2), <Move.LEFT: 2>): 0, ((4, 3), <Move.TOP: 0>): 0, ((4, 3), <Move.BOTTOM: 1>): 0, ((4, 3), <Move.LEFT: 2>): 0, ((4, 4), <Move.TOP: 0>): 0, ((4, 4), <Move.LEFT: 2>): 0, ((1, 0), <Move.BOTTOM: 1>): 0, ((1, 0), <Move.LEFT: 2>): 0, ((1, 0), <Move.RIGHT: 3>): 0, ((2, 0), <Move.BOTTOM: 1>): 0, ((2, 0), <Move.RIGHT: 3>): 0, ((3, 0), <Move.BOTTOM: 1>): 0, ((3, 0), <Move.LEFT: 2>): 0, ((3, 0), <Move.RIGHT: 3>): 0, ((1, 4), <Move.TOP: 0>): 0, ((1, 4), <Move.LEFT: 2>): 0, ((1, 4), <Move.RIGHT: 3>): 0, ((2, 4), <Move.TOP: 0>): 0, ((2, 4), <Move.LEFT: 2>): 0, ((2, 4), <Move.RIGHT: 3>): 0, ((3, 4), <Move.TOP: 0>): 0, ((3, 4), <Move.LEFT: 2>): 0, ((3, 4), <Move.RIGHT: 3>): 0} \n",
      "\n",
      "(frozenset({(4, 0), (2, 0), (4, 1)}), frozenset({(0, 0), (3, 0)})): {((0, 0), <Move.BOTTOM: 1>): -0.047013, ((0, 0), <Move.RIGHT: 3>): -0.073, ((0, 1), <Move.TOP: 0>): 0, ((0, 1), <Move.BOTTOM: 1>): 0, ((0, 1), <Move.RIGHT: 3>): 0, ((0, 3), <Move.TOP: 0>): 0, ((0, 3), <Move.BOTTOM: 1>): 0, ((0, 3), <Move.RIGHT: 3>): 0, ((4, 0), <Move.BOTTOM: 1>): 0, ((4, 0), <Move.LEFT: 2>): 0, ((4, 1), <Move.TOP: 0>): 0, ((4, 1), <Move.BOTTOM: 1>): 0, ((4, 1), <Move.LEFT: 2>): 0, ((4, 2), <Move.TOP: 0>): 0, ((4, 2), <Move.BOTTOM: 1>): 0, ((4, 2), <Move.LEFT: 2>): 0, ((4, 3), <Move.TOP: 0>): 0, ((4, 3), <Move.BOTTOM: 1>): 0, ((4, 3), <Move.LEFT: 2>): 0, ((4, 4), <Move.TOP: 0>): 0, ((4, 4), <Move.LEFT: 2>): 0, ((1, 0), <Move.BOTTOM: 1>): 0, ((1, 0), <Move.LEFT: 2>): 0, ((1, 0), <Move.RIGHT: 3>): 0, ((2, 0), <Move.BOTTOM: 1>): 0, ((2, 0), <Move.LEFT: 2>): 0, ((2, 0), <Move.RIGHT: 3>): 0, ((3, 0), <Move.BOTTOM: 1>): 0, ((3, 0), <Move.LEFT: 2>): 0, ((3, 0), <Move.RIGHT: 3>): 0, ((2, 4), <Move.TOP: 0>): 0, ((2, 4), <Move.LEFT: 2>): 0, ((2, 4), <Move.RIGHT: 3>): 0, ((3, 4), <Move.TOP: 0>): 0, ((3, 4), <Move.LEFT: 2>): 0, ((3, 4), <Move.RIGHT: 3>): 0} \n",
      "\n",
      "(frozenset({(4, 0), (2, 0), (4, 1)}), frozenset({(1, 0), (3, 0)})): {((0, 0), <Move.BOTTOM: 1>): 0.013000000000000001, ((0, 0), <Move.RIGHT: 3>): 0, ((0, 1), <Move.TOP: 0>): 0, ((0, 1), <Move.BOTTOM: 1>): 0, ((0, 1), <Move.RIGHT: 3>): 0, ((0, 3), <Move.TOP: 0>): 0, ((0, 3), <Move.BOTTOM: 1>): 0, ((0, 3), <Move.RIGHT: 3>): 0, ((4, 0), <Move.BOTTOM: 1>): 0, ((4, 0), <Move.LEFT: 2>): 0, ((4, 1), <Move.TOP: 0>): 0, ((4, 1), <Move.BOTTOM: 1>): 0, ((4, 1), <Move.LEFT: 2>): 0, ((4, 2), <Move.TOP: 0>): 0, ((4, 2), <Move.BOTTOM: 1>): 0, ((4, 2), <Move.LEFT: 2>): 0, ((4, 3), <Move.TOP: 0>): 0, ((4, 3), <Move.BOTTOM: 1>): 0, ((4, 3), <Move.LEFT: 2>): 0, ((4, 4), <Move.TOP: 0>): 0, ((4, 4), <Move.LEFT: 2>): 0, ((1, 0), <Move.BOTTOM: 1>): 0, ((1, 0), <Move.LEFT: 2>): 0, ((1, 0), <Move.RIGHT: 3>): 0, ((2, 0), <Move.BOTTOM: 1>): 0, ((2, 0), <Move.LEFT: 2>): 0, ((2, 0), <Move.RIGHT: 3>): 0, ((3, 0), <Move.BOTTOM: 1>): 0, ((3, 0), <Move.LEFT: 2>): 0, ((3, 0), <Move.RIGHT: 3>): 0, ((2, 4), <Move.TOP: 0>): 0, ((2, 4), <Move.LEFT: 2>): 0, ((2, 4), <Move.RIGHT: 3>): 0, ((3, 4), <Move.TOP: 0>): 0, ((3, 4), <Move.LEFT: 2>): 0, ((3, 4), <Move.RIGHT: 3>): 0} \n",
      "\n",
      "(frozenset({(1, 0), (4, 1), (3, 4)}), frozenset({(4, 0), (2, 0), (0, 0)})): {((4, 0), <Move.LEFT: 2>): 0.013000000000000001} \n",
      "\n"
     ]
    },
    {
     "data": {
      "application/vnd.jupyter.widget-view+json": {
       "model_id": "74baf65a90914d9d8624ef371bf016b8",
       "version_major": 2,
       "version_minor": 0
      },
      "text/plain": [
       "  0%|          | 0/100 [00:00<?, ?it/s]"
      ]
     },
     "metadata": {},
     "output_type": "display_data"
    },
    {
     "name": "stdout",
     "output_type": "stream",
     "text": [
      "My player won  50.0 % of the times\n",
      "Q Agent is training...\n"
     ]
    },
    {
     "data": {
      "application/vnd.jupyter.widget-view+json": {
       "model_id": "3fe361a2bbdc46519120daba84325d09",
       "version_major": 2,
       "version_minor": 0
      },
      "text/plain": [
       "  0%|          | 0/1000 [00:00<?, ?it/s]"
      ]
     },
     "metadata": {},
     "output_type": "display_data"
    },
    {
     "name": "stdout",
     "output_type": "stream",
     "text": [
      "My player won  0.493\n",
      "0.7\n",
      "Q Table is testing...\n",
      "Loading Q table\n"
     ]
    },
    {
     "data": {
      "application/vnd.jupyter.widget-view+json": {
       "model_id": "d26f1969464147c78a423517dc4218e4",
       "version_major": 2,
       "version_minor": 0
      },
      "text/plain": [
       "  0%|          | 0/100 [00:00<?, ?it/s]"
      ]
     },
     "metadata": {},
     "output_type": "display_data"
    },
    {
     "name": "stdout",
     "output_type": "stream",
     "text": [
      "My player won  47.0 % of the times\n",
      "Q Table is testing...\n",
      "Loading Q table\n"
     ]
    },
    {
     "data": {
      "application/vnd.jupyter.widget-view+json": {
       "model_id": "cc1e944486834fd4b5edd0d4a1799cc4",
       "version_major": 2,
       "version_minor": 0
      },
      "text/plain": [
       "  0%|          | 0/100 [00:00<?, ?it/s]"
      ]
     },
     "metadata": {},
     "output_type": "display_data"
    },
    {
     "name": "stdout",
     "output_type": "stream",
     "text": [
      "My player won  63.0 % of the times\n"
     ]
    }
   ],
   "source": [
    "agent=MontecarloAgent(1)\n",
    "train_montecarlo(agent)\n",
    "agent=MontecarloAgent(1)\n",
    "test_montecarlo(agent)\n",
    "\n",
    "agent=MontecarloAgent(0)\n",
    "test_montecarlo(agent)\n",
    "\n",
    "agent=QAgent(1)\n",
    "train_qagent(agent)\n",
    "\n",
    "agent=QAgent(1)\n",
    "test_qagent(agent)\n",
    "agent=QAgent(0)\n",
    "test_qagent(agent)\n",
    "   "
   ]
  },
  {
   "cell_type": "code",
   "execution_count": 18,
   "metadata": {},
   "outputs": [
    {
     "name": "stdout",
     "output_type": "stream",
     "text": [
      "Montecarlo is testing...\n",
      "Printing last 5 rows...\n",
      "(frozenset({(4, 0)}), frozenset()): {((0, 0), <Move.BOTTOM: 1>): -0.39822095528181023, ((0, 0), <Move.RIGHT: 3>): -0.8159457081435332, ((0, 1), <Move.TOP: 0>): -0.9715594560569409, ((0, 1), <Move.BOTTOM: 1>): -0.6006891618794366, ((0, 1), <Move.RIGHT: 3>): -0.4033729213926026, ((0, 2), <Move.TOP: 0>): -0.8748104820626608, ((0, 2), <Move.BOTTOM: 1>): -0.401848554761011, ((0, 2), <Move.RIGHT: 3>): -0.5935276286720783, ((0, 3), <Move.TOP: 0>): -0.48444856600861175, ((0, 3), <Move.BOTTOM: 1>): -0.43320853619868743, ((0, 3), <Move.RIGHT: 3>): -0.6865601932115608, ((4, 0), <Move.BOTTOM: 1>): -0.6476741075057956, ((4, 0), <Move.LEFT: 2>): -0.49612182157975016, ((4, 1), <Move.TOP: 0>): -0.8810061524321363, ((4, 1), <Move.BOTTOM: 1>): -0.45823805143033425, ((4, 1), <Move.LEFT: 2>): -0.46183758919380874, ((4, 2), <Move.TOP: 0>): -0.5186912686891698, ((4, 2), <Move.BOTTOM: 1>): -0.5139739617465793, ((4, 2), <Move.LEFT: 2>): -0.4083750810429431, ((4, 3), <Move.TOP: 0>): -0.5712128661062671, ((4, 3), <Move.BOTTOM: 1>): -0.4353562570840509, ((4, 3), <Move.LEFT: 2>): -0.6126267579625598, ((4, 4), <Move.TOP: 0>): -0.7761339995566827, ((4, 4), <Move.LEFT: 2>): -0.47280497894085854, ((1, 0), <Move.BOTTOM: 1>): -0.428740907700039, ((1, 0), <Move.LEFT: 2>): -0.42398276140601643, ((1, 0), <Move.RIGHT: 3>): -0.4358765736573016, ((2, 0), <Move.BOTTOM: 1>): -0.8370239079868068, ((2, 0), <Move.LEFT: 2>): -0.4841965449796995, ((2, 0), <Move.RIGHT: 3>): -0.4446405327032298, ((3, 0), <Move.BOTTOM: 1>): -0.6408846183319475, ((3, 0), <Move.LEFT: 2>): -0.48187689620601387, ((3, 0), <Move.RIGHT: 3>): -0.5576445830220842, ((1, 4), <Move.TOP: 0>): -0.4710536987967861, ((1, 4), <Move.LEFT: 2>): -0.5554434248637053, ((1, 4), <Move.RIGHT: 3>): -0.7790875730969387, ((2, 4), <Move.TOP: 0>): -0.7743178690234723, ((2, 4), <Move.LEFT: 2>): -0.7378686352124746, ((2, 4), <Move.RIGHT: 3>): -0.37119745014124816, ((3, 4), <Move.TOP: 0>): -0.568918113074664, ((3, 4), <Move.LEFT: 2>): -0.4415729186404184, ((3, 4), <Move.RIGHT: 3>): -0.6190094815317924} \n",
      "\n",
      "(frozenset({(4, 0), (2, 0)}), frozenset({(3, 0)})): {((2, 0), <Move.LEFT: 2>): -0.047013, ((0, 0), <Move.BOTTOM: 1>): -0.001, ((0, 0), <Move.RIGHT: 3>): 0, ((0, 1), <Move.TOP: 0>): 0, ((0, 1), <Move.BOTTOM: 1>): 0, ((0, 1), <Move.RIGHT: 3>): 0, ((0, 3), <Move.TOP: 0>): 0, ((0, 3), <Move.BOTTOM: 1>): 0, ((0, 3), <Move.RIGHT: 3>): 0, ((4, 0), <Move.BOTTOM: 1>): 0, ((4, 0), <Move.LEFT: 2>): 0, ((4, 1), <Move.TOP: 0>): 0, ((4, 1), <Move.BOTTOM: 1>): 0, ((4, 1), <Move.LEFT: 2>): 0, ((4, 2), <Move.TOP: 0>): 0, ((4, 2), <Move.BOTTOM: 1>): 0, ((4, 2), <Move.LEFT: 2>): 0, ((4, 3), <Move.TOP: 0>): 0, ((4, 3), <Move.BOTTOM: 1>): 0, ((4, 3), <Move.LEFT: 2>): 0, ((4, 4), <Move.TOP: 0>): 0, ((4, 4), <Move.LEFT: 2>): 0, ((1, 0), <Move.BOTTOM: 1>): 0, ((1, 0), <Move.LEFT: 2>): 0, ((1, 0), <Move.RIGHT: 3>): 0, ((2, 0), <Move.BOTTOM: 1>): 0, ((2, 0), <Move.RIGHT: 3>): 0, ((3, 0), <Move.BOTTOM: 1>): 0, ((3, 0), <Move.LEFT: 2>): 0, ((3, 0), <Move.RIGHT: 3>): 0, ((1, 4), <Move.TOP: 0>): 0, ((1, 4), <Move.LEFT: 2>): 0, ((1, 4), <Move.RIGHT: 3>): 0, ((2, 4), <Move.TOP: 0>): 0, ((2, 4), <Move.LEFT: 2>): 0, ((2, 4), <Move.RIGHT: 3>): 0, ((3, 4), <Move.TOP: 0>): 0, ((3, 4), <Move.LEFT: 2>): 0, ((3, 4), <Move.RIGHT: 3>): 0} \n",
      "\n",
      "(frozenset({(4, 0), (2, 0), (4, 1)}), frozenset({(0, 0), (3, 0)})): {((0, 0), <Move.BOTTOM: 1>): -0.047013, ((0, 0), <Move.RIGHT: 3>): -0.073, ((0, 1), <Move.TOP: 0>): 0, ((0, 1), <Move.BOTTOM: 1>): 0, ((0, 1), <Move.RIGHT: 3>): 0, ((0, 3), <Move.TOP: 0>): 0, ((0, 3), <Move.BOTTOM: 1>): 0, ((0, 3), <Move.RIGHT: 3>): 0, ((4, 0), <Move.BOTTOM: 1>): 0, ((4, 0), <Move.LEFT: 2>): 0, ((4, 1), <Move.TOP: 0>): 0, ((4, 1), <Move.BOTTOM: 1>): 0, ((4, 1), <Move.LEFT: 2>): 0, ((4, 2), <Move.TOP: 0>): 0, ((4, 2), <Move.BOTTOM: 1>): 0, ((4, 2), <Move.LEFT: 2>): 0, ((4, 3), <Move.TOP: 0>): 0, ((4, 3), <Move.BOTTOM: 1>): 0, ((4, 3), <Move.LEFT: 2>): 0, ((4, 4), <Move.TOP: 0>): 0, ((4, 4), <Move.LEFT: 2>): 0, ((1, 0), <Move.BOTTOM: 1>): 0, ((1, 0), <Move.LEFT: 2>): 0, ((1, 0), <Move.RIGHT: 3>): 0, ((2, 0), <Move.BOTTOM: 1>): 0, ((2, 0), <Move.LEFT: 2>): 0, ((2, 0), <Move.RIGHT: 3>): 0, ((3, 0), <Move.BOTTOM: 1>): 0, ((3, 0), <Move.LEFT: 2>): 0, ((3, 0), <Move.RIGHT: 3>): 0, ((2, 4), <Move.TOP: 0>): 0, ((2, 4), <Move.LEFT: 2>): 0, ((2, 4), <Move.RIGHT: 3>): 0, ((3, 4), <Move.TOP: 0>): 0, ((3, 4), <Move.LEFT: 2>): 0, ((3, 4), <Move.RIGHT: 3>): 0} \n",
      "\n",
      "(frozenset({(4, 0), (2, 0), (4, 1)}), frozenset({(1, 0), (3, 0)})): {((0, 0), <Move.BOTTOM: 1>): 0.013000000000000001, ((0, 0), <Move.RIGHT: 3>): 0, ((0, 1), <Move.TOP: 0>): 0, ((0, 1), <Move.BOTTOM: 1>): 0, ((0, 1), <Move.RIGHT: 3>): 0, ((0, 3), <Move.TOP: 0>): 0, ((0, 3), <Move.BOTTOM: 1>): 0, ((0, 3), <Move.RIGHT: 3>): 0, ((4, 0), <Move.BOTTOM: 1>): 0, ((4, 0), <Move.LEFT: 2>): 0, ((4, 1), <Move.TOP: 0>): 0, ((4, 1), <Move.BOTTOM: 1>): 0, ((4, 1), <Move.LEFT: 2>): 0, ((4, 2), <Move.TOP: 0>): 0, ((4, 2), <Move.BOTTOM: 1>): 0, ((4, 2), <Move.LEFT: 2>): 0, ((4, 3), <Move.TOP: 0>): 0, ((4, 3), <Move.BOTTOM: 1>): 0, ((4, 3), <Move.LEFT: 2>): 0, ((4, 4), <Move.TOP: 0>): 0, ((4, 4), <Move.LEFT: 2>): 0, ((1, 0), <Move.BOTTOM: 1>): 0, ((1, 0), <Move.LEFT: 2>): 0, ((1, 0), <Move.RIGHT: 3>): 0, ((2, 0), <Move.BOTTOM: 1>): 0, ((2, 0), <Move.LEFT: 2>): 0, ((2, 0), <Move.RIGHT: 3>): 0, ((3, 0), <Move.BOTTOM: 1>): 0, ((3, 0), <Move.LEFT: 2>): 0, ((3, 0), <Move.RIGHT: 3>): 0, ((2, 4), <Move.TOP: 0>): 0, ((2, 4), <Move.LEFT: 2>): 0, ((2, 4), <Move.RIGHT: 3>): 0, ((3, 4), <Move.TOP: 0>): 0, ((3, 4), <Move.LEFT: 2>): 0, ((3, 4), <Move.RIGHT: 3>): 0} \n",
      "\n",
      "(frozenset({(1, 0), (4, 1), (3, 4)}), frozenset({(4, 0), (2, 0), (0, 0)})): {((4, 0), <Move.LEFT: 2>): 0.013000000000000001} \n",
      "\n"
     ]
    },
    {
     "data": {
      "application/vnd.jupyter.widget-view+json": {
       "model_id": "fa7bf5dbac4a46b389a5b00f34c0a8d4",
       "version_major": 2,
       "version_minor": 0
      },
      "text/plain": [
       "  0%|          | 0/100 [00:00<?, ?it/s]"
      ]
     },
     "metadata": {},
     "output_type": "display_data"
    },
    {
     "name": "stdout",
     "output_type": "stream",
     "text": [
      "My player won  48.0 % of the times\n",
      "Q Table is testing...\n",
      "Loading Q table\n"
     ]
    },
    {
     "data": {
      "application/vnd.jupyter.widget-view+json": {
       "model_id": "068e408a13784d158cf6a45a56513f8a",
       "version_major": 2,
       "version_minor": 0
      },
      "text/plain": [
       "  0%|          | 0/100 [00:00<?, ?it/s]"
      ]
     },
     "metadata": {},
     "output_type": "display_data"
    },
    {
     "name": "stdout",
     "output_type": "stream",
     "text": [
      "My player won  59.0 % of the times\n"
     ]
    }
   ],
   "source": [
    "agent=MontecarloAgent(0)\n",
    "test_montecarlo(agent)\n",
    "\n",
    "agent=QAgent(0)\n",
    "test_qagent(agent)"
   ]
  },
  {
   "cell_type": "code",
   "execution_count": 15,
   "metadata": {},
   "outputs": [
    {
     "name": "stdout",
     "output_type": "stream",
     "text": [
      "Montecarlo is testing...\n",
      "Printing last 5 rows...\n",
      "(frozenset({(4, 0)}), frozenset()): {((0, 0), <Move.BOTTOM: 1>): -0.39822095528181023, ((0, 0), <Move.RIGHT: 3>): -0.8159457081435332, ((0, 1), <Move.TOP: 0>): -0.9715594560569409, ((0, 1), <Move.BOTTOM: 1>): -0.6006891618794366, ((0, 1), <Move.RIGHT: 3>): -0.4033729213926026, ((0, 2), <Move.TOP: 0>): -0.8748104820626608, ((0, 2), <Move.BOTTOM: 1>): -0.401848554761011, ((0, 2), <Move.RIGHT: 3>): -0.5935276286720783, ((0, 3), <Move.TOP: 0>): -0.48444856600861175, ((0, 3), <Move.BOTTOM: 1>): -0.43320853619868743, ((0, 3), <Move.RIGHT: 3>): -0.6865601932115608, ((4, 0), <Move.BOTTOM: 1>): -0.6476741075057956, ((4, 0), <Move.LEFT: 2>): -0.49612182157975016, ((4, 1), <Move.TOP: 0>): -0.8810061524321363, ((4, 1), <Move.BOTTOM: 1>): -0.45823805143033425, ((4, 1), <Move.LEFT: 2>): -0.46183758919380874, ((4, 2), <Move.TOP: 0>): -0.5186912686891698, ((4, 2), <Move.BOTTOM: 1>): -0.5139739617465793, ((4, 2), <Move.LEFT: 2>): -0.4083750810429431, ((4, 3), <Move.TOP: 0>): -0.5712128661062671, ((4, 3), <Move.BOTTOM: 1>): -0.4353562570840509, ((4, 3), <Move.LEFT: 2>): -0.6126267579625598, ((4, 4), <Move.TOP: 0>): -0.7761339995566827, ((4, 4), <Move.LEFT: 2>): -0.47280497894085854, ((1, 0), <Move.BOTTOM: 1>): -0.428740907700039, ((1, 0), <Move.LEFT: 2>): -0.42398276140601643, ((1, 0), <Move.RIGHT: 3>): -0.4358765736573016, ((2, 0), <Move.BOTTOM: 1>): -0.8370239079868068, ((2, 0), <Move.LEFT: 2>): -0.4841965449796995, ((2, 0), <Move.RIGHT: 3>): -0.4446405327032298, ((3, 0), <Move.BOTTOM: 1>): -0.6408846183319475, ((3, 0), <Move.LEFT: 2>): -0.48187689620601387, ((3, 0), <Move.RIGHT: 3>): -0.5576445830220842, ((1, 4), <Move.TOP: 0>): -0.4710536987967861, ((1, 4), <Move.LEFT: 2>): -0.5554434248637053, ((1, 4), <Move.RIGHT: 3>): -0.7790875730969387, ((2, 4), <Move.TOP: 0>): -0.7743178690234723, ((2, 4), <Move.LEFT: 2>): -0.7378686352124746, ((2, 4), <Move.RIGHT: 3>): -0.37119745014124816, ((3, 4), <Move.TOP: 0>): -0.568918113074664, ((3, 4), <Move.LEFT: 2>): -0.4415729186404184, ((3, 4), <Move.RIGHT: 3>): -0.6190094815317924} \n",
      "\n",
      "(frozenset({(4, 0), (2, 0)}), frozenset({(3, 0)})): {((2, 0), <Move.LEFT: 2>): -0.047013, ((0, 0), <Move.BOTTOM: 1>): -0.001, ((0, 0), <Move.RIGHT: 3>): 0, ((0, 1), <Move.TOP: 0>): 0, ((0, 1), <Move.BOTTOM: 1>): 0, ((0, 1), <Move.RIGHT: 3>): 0, ((0, 3), <Move.TOP: 0>): 0, ((0, 3), <Move.BOTTOM: 1>): 0, ((0, 3), <Move.RIGHT: 3>): 0, ((4, 0), <Move.BOTTOM: 1>): 0, ((4, 0), <Move.LEFT: 2>): 0, ((4, 1), <Move.TOP: 0>): 0, ((4, 1), <Move.BOTTOM: 1>): 0, ((4, 1), <Move.LEFT: 2>): 0, ((4, 2), <Move.TOP: 0>): 0, ((4, 2), <Move.BOTTOM: 1>): 0, ((4, 2), <Move.LEFT: 2>): 0, ((4, 3), <Move.TOP: 0>): 0, ((4, 3), <Move.BOTTOM: 1>): 0, ((4, 3), <Move.LEFT: 2>): 0, ((4, 4), <Move.TOP: 0>): 0, ((4, 4), <Move.LEFT: 2>): 0, ((1, 0), <Move.BOTTOM: 1>): 0, ((1, 0), <Move.LEFT: 2>): 0, ((1, 0), <Move.RIGHT: 3>): 0, ((2, 0), <Move.BOTTOM: 1>): 0, ((2, 0), <Move.RIGHT: 3>): 0, ((3, 0), <Move.BOTTOM: 1>): 0, ((3, 0), <Move.LEFT: 2>): 0, ((3, 0), <Move.RIGHT: 3>): 0, ((1, 4), <Move.TOP: 0>): 0, ((1, 4), <Move.LEFT: 2>): 0, ((1, 4), <Move.RIGHT: 3>): 0, ((2, 4), <Move.TOP: 0>): 0, ((2, 4), <Move.LEFT: 2>): 0, ((2, 4), <Move.RIGHT: 3>): 0, ((3, 4), <Move.TOP: 0>): 0, ((3, 4), <Move.LEFT: 2>): 0, ((3, 4), <Move.RIGHT: 3>): 0} \n",
      "\n",
      "(frozenset({(4, 0), (2, 0), (4, 1)}), frozenset({(0, 0), (3, 0)})): {((0, 0), <Move.BOTTOM: 1>): -0.047013, ((0, 0), <Move.RIGHT: 3>): -0.073, ((0, 1), <Move.TOP: 0>): 0, ((0, 1), <Move.BOTTOM: 1>): 0, ((0, 1), <Move.RIGHT: 3>): 0, ((0, 3), <Move.TOP: 0>): 0, ((0, 3), <Move.BOTTOM: 1>): 0, ((0, 3), <Move.RIGHT: 3>): 0, ((4, 0), <Move.BOTTOM: 1>): 0, ((4, 0), <Move.LEFT: 2>): 0, ((4, 1), <Move.TOP: 0>): 0, ((4, 1), <Move.BOTTOM: 1>): 0, ((4, 1), <Move.LEFT: 2>): 0, ((4, 2), <Move.TOP: 0>): 0, ((4, 2), <Move.BOTTOM: 1>): 0, ((4, 2), <Move.LEFT: 2>): 0, ((4, 3), <Move.TOP: 0>): 0, ((4, 3), <Move.BOTTOM: 1>): 0, ((4, 3), <Move.LEFT: 2>): 0, ((4, 4), <Move.TOP: 0>): 0, ((4, 4), <Move.LEFT: 2>): 0, ((1, 0), <Move.BOTTOM: 1>): 0, ((1, 0), <Move.LEFT: 2>): 0, ((1, 0), <Move.RIGHT: 3>): 0, ((2, 0), <Move.BOTTOM: 1>): 0, ((2, 0), <Move.LEFT: 2>): 0, ((2, 0), <Move.RIGHT: 3>): 0, ((3, 0), <Move.BOTTOM: 1>): 0, ((3, 0), <Move.LEFT: 2>): 0, ((3, 0), <Move.RIGHT: 3>): 0, ((2, 4), <Move.TOP: 0>): 0, ((2, 4), <Move.LEFT: 2>): 0, ((2, 4), <Move.RIGHT: 3>): 0, ((3, 4), <Move.TOP: 0>): 0, ((3, 4), <Move.LEFT: 2>): 0, ((3, 4), <Move.RIGHT: 3>): 0} \n",
      "\n",
      "(frozenset({(4, 0), (2, 0), (4, 1)}), frozenset({(1, 0), (3, 0)})): {((0, 0), <Move.BOTTOM: 1>): 0.013000000000000001, ((0, 0), <Move.RIGHT: 3>): 0, ((0, 1), <Move.TOP: 0>): 0, ((0, 1), <Move.BOTTOM: 1>): 0, ((0, 1), <Move.RIGHT: 3>): 0, ((0, 3), <Move.TOP: 0>): 0, ((0, 3), <Move.BOTTOM: 1>): 0, ((0, 3), <Move.RIGHT: 3>): 0, ((4, 0), <Move.BOTTOM: 1>): 0, ((4, 0), <Move.LEFT: 2>): 0, ((4, 1), <Move.TOP: 0>): 0, ((4, 1), <Move.BOTTOM: 1>): 0, ((4, 1), <Move.LEFT: 2>): 0, ((4, 2), <Move.TOP: 0>): 0, ((4, 2), <Move.BOTTOM: 1>): 0, ((4, 2), <Move.LEFT: 2>): 0, ((4, 3), <Move.TOP: 0>): 0, ((4, 3), <Move.BOTTOM: 1>): 0, ((4, 3), <Move.LEFT: 2>): 0, ((4, 4), <Move.TOP: 0>): 0, ((4, 4), <Move.LEFT: 2>): 0, ((1, 0), <Move.BOTTOM: 1>): 0, ((1, 0), <Move.LEFT: 2>): 0, ((1, 0), <Move.RIGHT: 3>): 0, ((2, 0), <Move.BOTTOM: 1>): 0, ((2, 0), <Move.LEFT: 2>): 0, ((2, 0), <Move.RIGHT: 3>): 0, ((3, 0), <Move.BOTTOM: 1>): 0, ((3, 0), <Move.LEFT: 2>): 0, ((3, 0), <Move.RIGHT: 3>): 0, ((2, 4), <Move.TOP: 0>): 0, ((2, 4), <Move.LEFT: 2>): 0, ((2, 4), <Move.RIGHT: 3>): 0, ((3, 4), <Move.TOP: 0>): 0, ((3, 4), <Move.LEFT: 2>): 0, ((3, 4), <Move.RIGHT: 3>): 0} \n",
      "\n",
      "(frozenset({(1, 0), (4, 1), (3, 4)}), frozenset({(4, 0), (2, 0), (0, 0)})): {((4, 0), <Move.LEFT: 2>): 0.013000000000000001} \n",
      "\n"
     ]
    },
    {
     "data": {
      "application/vnd.jupyter.widget-view+json": {
       "model_id": "14ee0d2346fd4d51971f00772b08047d",
       "version_major": 2,
       "version_minor": 0
      },
      "text/plain": [
       "  0%|          | 0/100 [00:00<?, ?it/s]"
      ]
     },
     "metadata": {},
     "output_type": "display_data"
    },
    {
     "name": "stdout",
     "output_type": "stream",
     "text": [
      "My player won  56.00000000000001 % of the times\n",
      "Q Table is testing...\n",
      "Loading Q table\n"
     ]
    },
    {
     "data": {
      "application/vnd.jupyter.widget-view+json": {
       "model_id": "a6c9e7d1bcf44206881f5c9f678df4b7",
       "version_major": 2,
       "version_minor": 0
      },
      "text/plain": [
       "  0%|          | 0/100 [00:00<?, ?it/s]"
      ]
     },
     "metadata": {},
     "output_type": "display_data"
    },
    {
     "name": "stdout",
     "output_type": "stream",
     "text": [
      "My player won  56.99999999999999 % of the times\n"
     ]
    }
   ],
   "source": [
    "agent=MontecarloAgent(0)\n",
    "test_montecarlo(agent)\n",
    "\n",
    "agent=QAgent(0)\n",
    "test_qagent(agent)"
   ]
  }
 ],
 "metadata": {
  "kernelspec": {
   "display_name": "venv",
   "language": "python",
   "name": "python3"
  },
  "language_info": {
   "codemirror_mode": {
    "name": "ipython",
    "version": 3
   },
   "file_extension": ".py",
   "mimetype": "text/x-python",
   "name": "python",
   "nbconvert_exporter": "python",
   "pygments_lexer": "ipython3",
   "version": "3.9.11"
  }
 },
 "nbformat": 4,
 "nbformat_minor": 2
}
